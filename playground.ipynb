{
 "cells": [
  {
   "cell_type": "markdown",
   "metadata": {},
   "source": [
    "### Playground for testing code snippets"
   ]
  },
  {
   "cell_type": "code",
   "execution_count": null,
   "metadata": {},
   "outputs": [],
   "source": [
    "import configparser"
   ]
  },
  {
   "cell_type": "code",
   "execution_count": null,
   "metadata": {},
   "outputs": [],
   "source": [
    "config = configparser.ConfigParser(allow_no_value=True, inline_comment_prefixes=('#',))\n",
    "config.optionxform = str  # keep the case of the keys, don't convert to lowercase\n",
    "config.read('config.ini')  # read the config file\n",
    "api_key = config.get('API', 'key', fallback=None)  # get the api key\n",
    "isins = config.items('ISINS')  # get all items from section 'ISINS'\n",
    "instruments = [isin[0] for isin in isins]  # get only the isins keys"
   ]
  },
  {
   "cell_type": "code",
   "execution_count": null,
   "metadata": {},
   "outputs": [],
   "source": [
    "print(api_key)\n",
    "print(instruments)"
   ]
  }
 ],
 "metadata": {
  "kernelspec": {
   "display_name": "Python 3.8.8 64-bit (system)",
   "language": "python",
   "name": "python3"
  },
  "language_info": {
   "codemirror_mode": {
    "name": "ipython",
    "version": 3
   },
   "file_extension": ".py",
   "mimetype": "text/x-python",
   "name": "python",
   "nbconvert_exporter": "python",
   "pygments_lexer": "ipython3",
   "version": "3.8.8"
  },
  "orig_nbformat": 4,
  "vscode": {
   "interpreter": {
    "hash": "af87c382eaec07737319f315d5cb1ef02a25f1427932926af99011d75947e308"
   }
  }
 },
 "nbformat": 4,
 "nbformat_minor": 2
}
